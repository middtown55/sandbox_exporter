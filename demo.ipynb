{
 "cells": [
  {
   "cell_type": "markdown",
   "metadata": {},
   "source": [
    "# Sandbox Exporter Demo\n",
    "\n",
    "The [sandbox_exporter](https://github.com/usdot-its-jpo-data-portal/sandbox_exporter) package allows users to load, query, and export data from ITS DataHub's sandbox efficiently by providing a wrapper around the s3select package and providing additional functionality for interacting with the ITS DataHub data. This notebook contains short instructions and sample code for how to use this tool.\n",
    "\n",
    "### Installation\n",
    "\n",
    "1. Download the script by cloning the module's [code repository on GitHub](https://github.com/usdot-its-jpo-data-portal/wzdx_sandbox). You can do so by running one of the following in command line. If unfamiliar with how to clone a repository, follow the [official GitHub guide](https://help.github.com/en/articles/cloning-a-repository).\n",
    "    - via HTTP: `git clone https://github.com/usdot-its-jpo-data-portal/sandbox_exporter.git`\n",
    "    - via SSH (if using 2-factor authentication): `git clone git@github.com:usdot-its-jpo-data-portal/sandbox_exporter.git`\n",
    "2. Navigate into the repository folder by entering `cd sandbox_exporter` in command line.\n",
    "3. Run `pip install -e .` to install the sandbox_exporter Python package.\n",
    "4. Install the required packages by running `pip install -r requirements.txt`.\n",
    "\n",
    "### Use cases\n",
    "- Users can now pass a list of fields into the function and get back only those fields\n",
    "- Users have the following output format options: \n",
    "  - return object array\n",
    "  - object generator\n",
    "  - write to csv file\n",
    "  - write to newline json file\n",
    "- User have the option to turn off print statements (added verbose flag)\n",
    "- Now uses S3 Select to query the data, which is more speed and cost-efficient\n",
    "- Utilizing a package that is also able to show the estimated cost associated with each query"
   ]
  },
  {
   "cell_type": "markdown",
   "metadata": {},
   "source": [
    "## Import and instantiate the SandboxExporter"
   ]
  },
  {
   "cell_type": "code",
   "execution_count": 1,
   "metadata": {},
   "outputs": [],
   "source": [
    "from sandbox_exporter.exporter import SandboxExporter\n",
    "\n",
    "bucket = 'usdot-its-cvpilot-public-data'\n",
    "aws_profile = 'default'\n",
    "\n",
    "# instantiate verbose exporter\n",
    "exporter = SandboxExporter(aws_profile=aws_profile, verbose=True, bucket=bucket)\n",
    "\n",
    "# instantiate quiet exporter\n",
    "exporter_q = SandboxExporter(aws_profile=aws_profile, verbose=False, bucket=bucket)"
   ]
  },
  {
   "cell_type": "code",
   "execution_count": 2,
   "metadata": {},
   "outputs": [
    {
     "data": {
      "text/plain": [
       "[{'metadata': {'bsmSource': 'RV',\n",
       "   'logFileName': 'rxMsg_1580730164_2620:31:40e0:840::1.csv',\n",
       "   'recordType': 'rxMsg',\n",
       "   'securityResultCode': 'success',\n",
       "   'receivedMessageDetails': {'locationData': {'latitude': '0',\n",
       "     'longitude': '0',\n",
       "     'elevation': '0',\n",
       "     'speed': '0',\n",
       "     'heading': '0'},\n",
       "    'rxSource': 'RV'},\n",
       "   'payloadType': 'us.dot.its.jpo.ode.model.OdeBsmPayload',\n",
       "   'serialId': {'streamId': 'a61ed1e5-46b5-4aab-b9c0-5c04a655332c',\n",
       "    'bundleSize': 438,\n",
       "    'bundleId': 379664,\n",
       "    'recordId': 1,\n",
       "    'serialNumber': 19554482},\n",
       "   'odeReceivedAt': '2020-02-03T11:51:07.116Z',\n",
       "   'schemaVersion': 6,\n",
       "   'recordGeneratedAt': '2020-02-01T00:37:14.291Z',\n",
       "   'recordGeneratedBy': 'OBU',\n",
       "   'sanitized': True},\n",
       "  'payload': {'dataType': 'us.dot.its.jpo.ode.plugin.j2735.J2735Bsm',\n",
       "   'data': {'coreData': {'msgCnt': 111,\n",
       "     'id': '57303235',\n",
       "     'secMark': 14299,\n",
       "     'position': {'latitude': 41.5325156,\n",
       "      'longitude': -109.3813391,\n",
       "      'elevation': 1867.6},\n",
       "     'accelSet': {'accelLat': -8.82,\n",
       "      'accelLong': 0.28,\n",
       "      'accelVert': -0.02,\n",
       "      'accelYaw': 0.27},\n",
       "     'accuracy': {'semiMajor': 2.55,\n",
       "      'semiMinor': 2.55,\n",
       "      'orientation': 0.7470817144},\n",
       "     'transmission': 'NEUTRAL',\n",
       "     'speed': 23.76,\n",
       "     'heading': 99.8625,\n",
       "     'brakes': {'wheelBrakes': {'leftFront': False,\n",
       "       'rightFront': False,\n",
       "       'unavailable': True,\n",
       "       'leftRear': False,\n",
       "       'rightRear': False},\n",
       "      'traction': 'unavailable',\n",
       "      'abs': 'unavailable',\n",
       "      'scs': 'unavailable',\n",
       "      'brakeBoost': 'unavailable',\n",
       "      'auxBrakes': 'unavailable'},\n",
       "     'size': {'width': 254, 'length': 774}},\n",
       "    'partII': [{'id': 'VehicleSafetyExtensions',\n",
       "      'value': {'pathHistory': {'crumbData': [{'elevationOffset': 1.6,\n",
       "          'latOffset': -6.58e-05,\n",
       "          'lonOffset': 0.0005043,\n",
       "          'timeOffset': 1.8},\n",
       "         {'elevationOffset': 8.0,\n",
       "          'latOffset': -0.0003734,\n",
       "          'lonOffset': 0.0029617,\n",
       "          'timeOffset': 10.5},\n",
       "         {'elevationOffset': 9.7,\n",
       "          'latOffset': -0.000442,\n",
       "          'lonOffset': 0.0038682,\n",
       "          'timeOffset': 13.6}]},\n",
       "       'pathPrediction': {'confidence': 100.0, 'radiusOfCurve': 0.0}}},\n",
       "     {'id': 'SupplementalVehicleExtensions', 'value': {}}]}}}]"
      ]
     },
     "execution_count": 2,
     "metadata": {},
     "output_type": "execute_result"
    }
   ],
   "source": [
    "res = exporter.get_record_generator(sdate='2020-02-01', \n",
    "                                 edate='2020-02-05', \n",
    "                                 pilot='wydot', \n",
    "                                 message_type='BSM',\n",
    "                                   limit=1)\n",
    "list(res)"
   ]
  },
  {
   "cell_type": "markdown",
   "metadata": {},
   "source": [
    "## Check Number of Records"
   ]
  },
  {
   "cell_type": "code",
   "execution_count": 3,
   "metadata": {},
   "outputs": [
    {
     "name": "stdout",
     "output_type": "stream",
     "text": [
      "Files processed: 16/16  Records matched: 13510  Bytes scanned: 26 MB\n",
      "Cost for data scanned: $0.00\n",
      "Cost for data returned: $0.00\n",
      "Cost for SELECT requests: $0.00\n",
      "Total cost: $0.00\n",
      "13510 records from WYDOT\n",
      "\n",
      "1152 records from THEA\n",
      "\n"
     ]
    }
   ],
   "source": [
    "# check number of WYDOT and THEA BSM records between 2020-02-01 - 2020-02-05\n",
    "wydot_count = exporter.get_count(sdate='2020-02-01', \n",
    "                                 edate='2020-02-05', \n",
    "                                 pilot='wydot', \n",
    "                                 message_type='BSM')\n",
    "print('{} records from WYDOT\\n'.format(wydot_count))\n",
    "\n",
    "thea_count = exporter_q.get_count(sdate='2020-02-01', \n",
    "                                 edate='2020-02-05', \n",
    "                                 pilot='thea', \n",
    "                                 message_type='BSM')\n",
    "print('{} records from THEA\\n'.format(thea_count))"
   ]
  },
  {
   "cell_type": "markdown",
   "metadata": {},
   "source": [
    "# Retrieve 5 sample records\n",
    "\n",
    "Retrieve 5 sample BSM records from each pilot and compare the metadata schema of the record from each pilot."
   ]
  },
  {
   "cell_type": "code",
   "execution_count": 4,
   "metadata": {},
   "outputs": [],
   "source": [
    "# retrieve all fields from 5 records\n",
    "wydot_records = exporter_q.get_records(sdate='2020-02-01', \n",
    "                                     edate='2020-02-05', \n",
    "                                     pilot='wydot', \n",
    "                                     message_type='BSM',\n",
    "                                     limit=5)\n",
    "thea_records = exporter_q.get_records(sdate='2020-02-01', \n",
    "                                     edate='2020-02-05', \n",
    "                                     pilot='thea', \n",
    "                                     message_type='BSM',\n",
    "                                     limit=5)"
   ]
  },
  {
   "cell_type": "code",
   "execution_count": 5,
   "metadata": {},
   "outputs": [
    {
     "data": {
      "text/plain": [
       "{'schemaVersion': 1,\n",
       " 'recordGeneratedBy': 'rsu',\n",
       " 'recordGeneratedAt': '2020-02-03 00:24:02.668 [ET]',\n",
       " 'logFileName': '2020_2_3_0_thea2.csv',\n",
       " 'kind': 'in',\n",
       " 'bsmSource': 'RV',\n",
       " 'psid': '32',\n",
       " 'RSUID': 'thea2',\n",
       " 'externalID': 'NA',\n",
       " 'dataType': 'bsm'}"
      ]
     },
     "execution_count": 5,
     "metadata": {},
     "output_type": "execute_result"
    }
   ],
   "source": [
    "thea_records[0]['metadata']"
   ]
  },
  {
   "cell_type": "code",
   "execution_count": 6,
   "metadata": {},
   "outputs": [
    {
     "data": {
      "text/plain": [
       "{'bsmSource': 'RV',\n",
       " 'logFileName': 'rxMsg_1580517741_2620:31:40e0:843::1.csv',\n",
       " 'recordType': 'rxMsg',\n",
       " 'securityResultCode': 'spduParsingCertificateNotFound',\n",
       " 'receivedMessageDetails': {'locationData': {'latitude': '0',\n",
       "   'longitude': '0',\n",
       "   'elevation': '0',\n",
       "   'speed': '0',\n",
       "   'heading': '0'},\n",
       "  'rxSource': 'RV'},\n",
       " 'payloadType': 'us.dot.its.jpo.ode.model.OdeBsmPayload',\n",
       " 'serialId': {'streamId': 'a61ed1e5-46b5-4aab-b9c0-5c04a655332c',\n",
       "  'bundleSize': 458,\n",
       "  'bundleId': 378258,\n",
       "  'recordId': 90,\n",
       "  'serialNumber': 19248742},\n",
       " 'odeReceivedAt': '2020-02-01T00:48:05.376Z',\n",
       " 'schemaVersion': 6,\n",
       " 'recordGeneratedAt': '2020-02-01T00:41:33.296Z',\n",
       " 'recordGeneratedBy': 'OBU',\n",
       " 'sanitized': True}"
      ]
     },
     "execution_count": 6,
     "metadata": {},
     "output_type": "execute_result"
    }
   ],
   "source": [
    "wydot_records[0]['metadata']"
   ]
  },
  {
   "cell_type": "code",
   "execution_count": 7,
   "metadata": {},
   "outputs": [
    {
     "name": "stdout",
     "output_type": "stream",
     "text": [
      "Files processed: 16/16  Records matched: 8913  Bytes scanned: 26 MB\n",
      "Cost for data scanned: $0.00\n",
      "Cost for data returned: $0.00\n",
      "Cost for SELECT requests: $0.00\n",
      "Total cost: $0.00\n",
      "8913 records from WYDOT with speed < 15 \n",
      "\n",
      "Files processed: 8/8  Records matched: 44  Bytes scanned: 2 MB\n",
      "Cost for data scanned: $0.00\n",
      "Cost for data returned: $0.00\n",
      "Cost for SELECT requests: $0.00\n",
      "Total cost: $0.00\n",
      "44 records from THEA with speed < 15 \n",
      "\n"
     ]
    }
   ],
   "source": [
    "wydot_count = exporter.get_count(\n",
    "    sdate='2020-02-01', \n",
    "    edate='2020-02-05', \n",
    "    pilot='wydot', \n",
    "    message_type='BSM',\n",
    "    where=\"s.metadata.bsmSource='RV' and s.payload.data.coreData.speed < 15\"\n",
    ")\n",
    "print('{} records from WYDOT with speed < 15 \\n'.format(wydot_count))\n",
    "\n",
    "thea_count = exporter.get_count(\n",
    "    sdate='2020-02-01', \n",
    "    edate='2020-02-05', \n",
    "    pilot='thea', \n",
    "    message_type='BSM',\n",
    "    where=\"s.metadata.bsmSource='RV' and s.payload.data.coreData.speed < '15'\"\n",
    ")\n",
    "print('{} records from THEA with speed < 15 \\n'.format(thea_count))"
   ]
  },
  {
   "cell_type": "markdown",
   "metadata": {},
   "source": [
    "# Retrieve records from a date range in an json object array "
   ]
  },
  {
   "cell_type": "code",
   "execution_count": 8,
   "metadata": {},
   "outputs": [
    {
     "name": "stdout",
     "output_type": "stream",
     "text": [
      "Files processed: 0/23  Records matched: 5  Bytes scanned: 0 B\n",
      "Cost for data scanned: $0.00\n",
      "Cost for data returned: $0.00\n",
      "Cost for SELECT requests: $0.00\n",
      "Total cost: $0.00\n"
     ]
    },
    {
     "data": {
      "text/plain": [
       "[{'speed': 17.3},\n",
       " {'speed': 17.3},\n",
       " {'speed': 17.3},\n",
       " {'speed': 17.3},\n",
       " {'speed': 17.3}]"
      ]
     },
     "execution_count": 8,
     "metadata": {},
     "output_type": "execute_result"
    }
   ],
   "source": [
    "# retrieve selected fields from 5 records\n",
    "records = exporter.get_records(sdate='2020-01-22', \n",
    "                               edate='2020-01-25',\n",
    "                               pilot='wydot', \n",
    "                               message_type='BSM', \n",
    "                               output_fields='s.payload.data.coreData.speed',\n",
    "                               limit=5\n",
    "                              )\n",
    "records"
   ]
  },
  {
   "cell_type": "code",
   "execution_count": 9,
   "metadata": {},
   "outputs": [
    {
     "name": "stdout",
     "output_type": "stream",
     "text": [
      "Wrote 100 recs to wydot_bsm_2020012200_2020012300_0.csv\n",
      "===========================\n",
      "Output files:\n",
      "wydot_bsm_2020012200_2020012300_0.csv\n",
      "\n",
      "Files processed: 2/7  Records matched: 100  Bytes scanned: 906 KB\n",
      "Cost for data scanned: $0.00\n",
      "Cost for data returned: $0.00\n",
      "Cost for SELECT requests: $0.00\n",
      "Total cost: $0.00\n",
      "Process took 0.02312944730122884 minutes\n",
      "============END============\n"
     ]
    }
   ],
   "source": [
    "# export 100 records to a CSV file, limiting the fields to export and filtering by certain variables \n",
    "exporter.export_to_file(sdate='2020-01-22', \n",
    "                        pilot='wydot', message_type='BSM',\n",
    "                        where=\"s.metadata.bsmSource='RV' and s.payload.data.coreData.speed < 15\",\n",
    "                        limit=100,\n",
    "                        output_fields='s.metadata',csv=True)"
   ]
  },
  {
   "cell_type": "code",
   "execution_count": 10,
   "metadata": {},
   "outputs": [],
   "source": [
    "# export 100 records to a JSON newline file, limiting the fields to export and filtering by certain variables\n",
    "exporter_q.export_to_file(sdate='2020-01-22', \n",
    "                          pilot='wydot', message_type='BSM', limit=5,\n",
    "                          output_fields='s.metadata,s.payload.data.coreData.speed',\n",
    "                          where=\"s.metadata.bsmSource='RV' and s.payload.data.coreData.speed < 15\",\n",
    "                        csv=False)"
   ]
  },
  {
   "cell_type": "code",
   "execution_count": 11,
   "metadata": {
    "scrolled": true
   },
   "outputs": [],
   "source": [
    "# create a record generator\n",
    "generator = exporter.get_record_generator(sdate='2020-01-22', \n",
    "                       pilot='wydot', message_type='BSM', limit=5)"
   ]
  },
  {
   "cell_type": "code",
   "execution_count": 12,
   "metadata": {},
   "outputs": [
    {
     "data": {
      "text/plain": [
       "<generator object S3Helper.select at 0x10a1a9e58>"
      ]
     },
     "execution_count": 12,
     "metadata": {},
     "output_type": "execute_result"
    }
   ],
   "source": [
    "generator"
   ]
  },
  {
   "cell_type": "code",
   "execution_count": 12,
   "metadata": {},
   "outputs": [
    {
     "name": "stdout",
     "output_type": "stream",
     "text": [
      "{'metadata': {'bsmSource': 'RV', 'logFileName': 'rxMsg_1579659546_2620:31:40e0:839::1.csv', 'recordType': 'rxMsg', 'securityResultCode': 'success', 'receivedMessageDetails': {'locationData': {'latitude': '0', 'longitude': '0', 'elevation': '0', 'speed': '0', 'heading': '0'}, 'rxSource': 'RV'}, 'payloadType': 'us.dot.its.jpo.ode.model.OdeBsmPayload', 'serialId': {'streamId': 'a61ed1e5-46b5-4aab-b9c0-5c04a655332c', 'bundleSize': 395, 'bundleId': 311244, 'recordId': 3, 'serialNumber': 14138016}, 'odeReceivedAt': '2020-01-22T02:33:02.161Z', 'schemaVersion': 6, 'recordGeneratedAt': '2020-01-22T00:36:09.599Z', 'recordGeneratedBy': 'OBU', 'sanitized': True}, 'payload': {'dataType': 'us.dot.its.jpo.ode.plugin.j2735.J2735Bsm', 'data': {'coreData': {'msgCnt': 100, 'id': '57303235', 'secMark': 9600, 'position': {'latitude': 41.5282506, 'longitude': -109.4228493, 'elevation': 1855.7}, 'accelSet': {'accelLat': -9.95, 'accelLong': -0.09, 'accelVert': -0.06, 'accelYaw': 0.52}, 'accuracy': {'semiMajor': 2.35, 'semiMinor': 2.35, 'orientation': 1.0217441094}, 'transmission': 'NEUTRAL', 'speed': 9.6, 'heading': 275.0375, 'brakes': {'wheelBrakes': {'leftFront': False, 'rightFront': False, 'unavailable': True, 'leftRear': False, 'rightRear': False}, 'traction': 'unavailable', 'abs': 'unavailable', 'scs': 'unavailable', 'brakeBoost': 'unavailable', 'auxBrakes': 'unavailable'}, 'size': {'width': 254, 'length': 774}}, 'partII': [{'id': 'VehicleSafetyExtensions', 'value': {'pathHistory': {'crumbData': [{'elevationOffset': 0.2, 'latOffset': 1.19e-05, 'lonOffset': -0.000173, 'timeOffset': 1.5}, {'elevationOffset': 0.1, 'latOffset': 1.02e-05, 'lonOffset': -0.0003314, 'timeOffset': 2.3}, {'elevationOffset': 0.1, 'latOffset': 3.3e-05, 'lonOffset': -0.0004839, 'timeOffset': 4.5}, {'elevationOffset': 0.3, 'latOffset': 5.03e-05, 'lonOffset': -0.0006798, 'timeOffset': 6.3}, {'elevationOffset': -0.2, 'latOffset': 0.0001359, 'lonOffset': -0.0008966, 'timeOffset': 12.7}, {'elevationOffset': -1.0, 'latOffset': 0.0001967, 'lonOffset': -0.0009617, 'timeOffset': 29.5}, {'elevationOffset': -0.8, 'latOffset': 0.0002888, 'lonOffset': -0.0009701, 'timeOffset': 39.0}, {'elevationOffset': 0.0, 'latOffset': 0.0004136, 'lonOffset': -0.0009491, 'timeOffset': 43.3}, {'elevationOffset': 0.4, 'latOffset': 0.0004676, 'lonOffset': -0.000911, 'timeOffset': 45.0}, {'elevationOffset': 0.6, 'latOffset': 0.000485, 'lonOffset': -0.0009172, 'timeOffset': 45.3}, {'elevationOffset': 0.6, 'latOffset': 0.0005072, 'lonOffset': -0.0008562, 'timeOffset': 46.4}, {'elevationOffset': 1.8, 'latOffset': 0.0005516, 'lonOffset': -0.0009935, 'timeOffset': 46.7}, {'elevationOffset': 2.2, 'latOffset': 0.0004354, 'lonOffset': 0.0001225, 'timeOffset': 55.6}]}, 'pathPrediction': {'confidence': 70.0, 'radiusOfCurve': -881.1}}}, {'id': 'SupplementalVehicleExtensions', 'value': {}}]}}}\n"
     ]
    }
   ],
   "source": [
    "for i in generator:\n",
    "    print(i)\n",
    "    break"
   ]
  }
 ],
 "metadata": {
  "kernelspec": {
   "display_name": "Python 3",
   "language": "python",
   "name": "python3"
  },
  "language_info": {
   "codemirror_mode": {
    "name": "ipython",
    "version": 3
   },
   "file_extension": ".py",
   "mimetype": "text/x-python",
   "name": "python",
   "nbconvert_exporter": "python",
   "pygments_lexer": "ipython3",
   "version": "3.7.2"
  }
 },
 "nbformat": 4,
 "nbformat_minor": 4
}
